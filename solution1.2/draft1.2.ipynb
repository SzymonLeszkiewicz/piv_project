{
 "cells": [
  {
   "cell_type": "code",
   "execution_count": 1,
   "id": "initial_id",
   "metadata": {
    "collapsed": true,
    "ExecuteTime": {
     "end_time": "2024-12-12T15:28:05.968299Z",
     "start_time": "2024-12-12T15:28:05.284486Z"
    }
   },
   "outputs": [],
   "source": [
    "import numpy as np\n",
    "from scipy.io import loadmat, savemat\n",
    "import matplotlib.pyplot as plt\n",
    "from PIL import Image\n",
    "import os\n",
    "import scipy"
   ]
  },
  {
   "cell_type": "code",
   "outputs": [],
   "source": [
    "def load_keypoints(filepath):\n",
    "    \"\"\"Load keypoints and descriptors from .mat file\"\"\"\n",
    "    data = loadmat(filepath)\n",
    "    return data['kp'], data['desc']\n",
    "\n",
    "def find_matches(desc1, desc2, ratio_threshold=0.75):\n",
    "    \"\"\"Find matches between two sets of descriptors using ratio test\"\"\"\n",
    "    # Compute distances between all descriptors\n",
    "    distances = np.linalg.norm(desc1[:, np.newaxis] - desc2, axis=2)\n",
    "    \n",
    "    # For each descriptor in desc1, find the two closest matches in desc2\n",
    "    best_matches = np.argmin(distances, axis=1)\n",
    "    best_distances = np.min(distances, axis=1)\n",
    "    \n",
    "    # Find second best matches\n",
    "    distances[np.arange(len(desc1)), best_matches] = np.inf\n",
    "    second_best_distances = np.min(distances, axis=1)\n",
    "    \n",
    "    # Apply ratio test\n",
    "    good_matches_mask = best_distances < (ratio_threshold * second_best_distances)\n",
    "    matches = np.column_stack((np.where(good_matches_mask)[0], \n",
    "                             best_matches[good_matches_mask]))\n",
    "    return matches\n",
    "\n",
    "def estimate_homography(points1, points2):\n",
    "    \"\"\"Estimate homography matrix using DLT algorithm\"\"\"\n",
    "    if len(points1) < 4:\n",
    "        return None\n",
    "    \n",
    "    # Normalize points\n",
    "    mean1 = np.mean(points1, axis=0)\n",
    "    mean2 = np.mean(points2, axis=0)\n",
    "    scale1 = np.sqrt(2) / np.mean(np.linalg.norm(points1 - mean1, axis=1))\n",
    "    scale2 = np.sqrt(2) / np.mean(np.linalg.norm(points2 - mean2, axis=1))\n",
    "    \n",
    "    T1 = np.array([[scale1, 0, -scale1*mean1[0]],\n",
    "                   [0, scale1, -scale1*mean1[1]],\n",
    "                   [0, 0, 1]])\n",
    "    T2 = np.array([[scale2, 0, -scale2*mean2[0]],\n",
    "                   [0, scale2, -scale2*mean2[1]],\n",
    "                   [0, 0, 1]])\n",
    "    \n",
    "    # Build matrix for DLT\n",
    "    A = []\n",
    "    norm_points1 = np.hstack((points1, np.ones((len(points1), 1))))\n",
    "    norm_points2 = np.hstack((points2, np.ones((len(points2), 1))))\n",
    "    norm_points1 = (T1 @ norm_points1.T).T\n",
    "    norm_points2 = (T2 @ norm_points2.T).T\n",
    "    \n",
    "    for i in range(len(points1)):\n",
    "        x, y = norm_points1[i, 0], norm_points1[i, 1]\n",
    "        u, v = norm_points2[i, 0], norm_points2[i, 1]\n",
    "        A.append([0, 0, 0, -x, -y, -1, v*x, v*y, v])\n",
    "        A.append([x, y, 1, 0, 0, 0, -u*x, -u*y, -u])\n",
    "    \n",
    "    A = np.array(A)\n",
    "    \n",
    "    # Solve using SVD\n",
    "    _, _, Vt = np.linalg.svd(A)\n",
    "    H = Vt[-1].reshape(3, 3)\n",
    "    \n",
    "    # Denormalize\n",
    "    H = np.linalg.inv(T2) @ H @ T1\n",
    "    return H / H[2, 2]\n",
    "\n",
    "def transform_points(points, H):\n",
    "    \"\"\"Transform points using homography matrix\"\"\"\n",
    "    # Convert to homogeneous coordinates\n",
    "    points_h = np.hstack((points, np.ones((len(points), 1))))\n",
    "    # Transform points\n",
    "    transformed_h = (H @ points_h.T).T\n",
    "    # Convert back to euclidean coordinates\n",
    "    transformed = transformed_h[:, :2] / transformed_h[:, 2:]\n",
    "    return transformed"
   ],
   "metadata": {
    "collapsed": false,
    "ExecuteTime": {
     "end_time": "2024-12-12T15:28:05.979295Z",
     "start_time": "2024-12-12T15:28:05.972664Z"
    }
   },
   "id": "485cab221e569ba3",
   "execution_count": 2
  },
  {
   "cell_type": "code",
   "outputs": [],
   "source": [
    "import numpy as np\n",
    "import scipy.io\n",
    "from scipy.spatial.distance import cdist\n",
    "from scipy.linalg import svd\n",
    "\n",
    "def load_keypoints(file_path):\n",
    "    \"\"\"Wczytaj kluczowe punkty i deskryptory z pliku .mat\"\"\"\n",
    "    data = scipy.io.loadmat(file_path)\n",
    "    kp = data['kp']  # Nx2 macierz współrzędnych kluczowych punktów\n",
    "    desc = data['desc']  # NxD macierz deskryptorów\n",
    "    return kp, desc\n",
    "\n",
    "def match_keypoints(desc1, desc2, threshold=0.75):\n",
    "    \"\"\"Dopasowanie kluczowych punktów na podstawie odległości między deskryptorami\"\"\"\n",
    "    distances = cdist(desc1, desc2, metric='euclidean')\n",
    "    matches = []\n",
    "    for i in range(distances.shape[0]):\n",
    "        sorted_indices = np.argsort(distances[i])\n",
    "        if distances[i, sorted_indices[0]] < threshold * distances[i, sorted_indices[1]]:\n",
    "            matches.append((i, sorted_indices[0]))\n",
    "    return np.array(matches)\n",
    "\n",
    "def compute_homography(src_pts, dst_pts):\n",
    "    \"\"\"Oblicz macierz homografii z punktów dopasowanych\"\"\"\n",
    "    assert src_pts.shape == dst_pts.shape\n",
    "    num_points = src_pts.shape[0]\n",
    "    if num_points < 4:\n",
    "        raise ValueError(\"Do obliczenia homografii wymagane są co najmniej 4 punkty.\")\n",
    "\n",
    "    A = []\n",
    "    for i in range(num_points):\n",
    "        x, y = src_pts[i]\n",
    "        x_p, y_p = dst_pts[i]\n",
    "        A.append([-x, -y, -1, 0, 0, 0, x*x_p, y*x_p, x_p])\n",
    "        A.append([0, 0, 0, -x, -y, -1, x*y_p, y*y_p, y_p])\n",
    "    A = np.array(A)\n",
    "\n",
    "    # Rozkład SVD\n",
    "    U, S, Vt = svd(A)\n",
    "    H = Vt[-1].reshape((3, 3))\n",
    "    return H / H[2, 2]  # Normalizacja"
   ],
   "metadata": {
    "collapsed": false
   },
   "id": "2d36c4514bd674df"
  },
  {
   "cell_type": "code",
   "outputs": [],
   "source": [],
   "metadata": {
    "collapsed": false
   },
   "id": "9856c317eb612a7d"
  },
  {
   "cell_type": "code",
   "outputs": [
    {
     "name": "stdout",
     "output_type": "stream",
     "text": [
      "Liczba iteracji RANSAC: 567\n"
     ]
    }
   ],
   "source": [
    "import math\n",
    "\n",
    "def calculate_ransac_iterations(w, n, p=0.99):\n",
    "    \"\"\"\n",
    "    Oblicz wymaganą liczbę iteracji dla RANSAC.\n",
    "    \n",
    "    Args:\n",
    "        w (float): Szacowany udział inlinerów (np. 0.5 dla 50%).\n",
    "        n (int): Minimalna liczba punktów do zbudowania modelu (np. 4 dla homografii).\n",
    "        p (float): Prawdopodobieństwo sukcesu (domyślnie 0.99).\n",
    "    \n",
    "    Returns:\n",
    "        int: Liczba iteracji.\n",
    "    \"\"\"\n",
    "    if w <= 0 or w > 1:\n",
    "        raise ValueError(\"w (udział inlinerów) musi być w zakresie (0, 1].\")\n",
    "    if n <= 0:\n",
    "        raise ValueError(\"n (liczba punktów) musi być większe od 0.\")\n",
    "    \n",
    "    return math.ceil(math.log(1 - p) / math.log(1 - w**n))\n",
    "\n",
    "# Przykład użycia\n",
    "w = 0.3  # Szacowany udział inlinerów (50%)\n",
    "n = 4    # Minimalna liczba punktów dla homografii\n",
    "p = 0.99 # Prawdopodobieństwo sukcesu (99%)\n",
    "\n",
    "k = calculate_ransac_iterations(w, n, p)\n",
    "print(f\"Liczba iteracji RANSAC: {k}\")"
   ],
   "metadata": {
    "collapsed": false,
    "ExecuteTime": {
     "end_time": "2024-12-12T16:11:24.716490Z",
     "start_time": "2024-12-12T16:11:24.713690Z"
    }
   },
   "id": "3303fcc339705b11",
   "execution_count": 5
  },
  {
   "cell_type": "code",
   "outputs": [],
   "source": [],
   "metadata": {
    "collapsed": false,
    "ExecuteTime": {
     "end_time": "2024-12-12T16:11:25.018300Z",
     "start_time": "2024-12-12T16:11:25.016871Z"
    }
   },
   "id": "a8bb08c543c7ecba",
   "execution_count": 5
  },
  {
   "cell_type": "code",
   "outputs": [],
   "source": [],
   "metadata": {
    "collapsed": false
   },
   "id": "a2907b44edfc58d3"
  }
 ],
 "metadata": {
  "kernelspec": {
   "display_name": "Python 3",
   "language": "python",
   "name": "python3"
  },
  "language_info": {
   "codemirror_mode": {
    "name": "ipython",
    "version": 2
   },
   "file_extension": ".py",
   "mimetype": "text/x-python",
   "name": "python",
   "nbconvert_exporter": "python",
   "pygments_lexer": "ipython2",
   "version": "2.7.6"
  }
 },
 "nbformat": 4,
 "nbformat_minor": 5
}
